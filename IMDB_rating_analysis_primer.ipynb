{
 "cells": [
  {
   "cell_type": "code",
   "execution_count": 36,
   "id": "3642e25d-7159-4e09-9ca9-8cee78abbfd7",
   "metadata": {
    "tags": []
   },
   "outputs": [],
   "source": [
    "from sklearn.model_selection import train_test_split\n",
    "from matplotlib import pyplot as plt\n",
    "from sklearn.ensemble import RandomForestRegressor\n",
    "from sklearn.metrics import mean_squared_error, r2_score\n",
    "import numpy as np\n",
    "import pandas as pd"
   ]
  },
  {
   "cell_type": "markdown",
   "id": "29c59145-bd48-4d05-beae-00e7375af276",
   "metadata": {},
   "source": [
    "<div class=\"alert alert-block alert-info\">\n",
    "<h3><center>Approach</center></h3>\n",
    "\n",
    "- IMDB movie ratings data was downloaded\n",
    "- the data was explored and cleaned up lightly (only numerical ones to save time) as methods like one-hot encoding categorical ones inflates processing time hugely\n",
    "- three plots were generated showing the raw data, how the features interact (correlation heatmap), and feature importances after a popular model was trained and tested (Random Forest)\n",
    "- finally, 10 improvement methods are enumerated at the bottom of the notebook\n",
    "</div>"
   ]
  },
  {
   "cell_type": "markdown",
   "id": "5c68f8b5-8581-46cf-afe4-6cb001989183",
   "metadata": {
    "tags": []
   },
   "source": [
    "<h3><center>To avoid the version and warning issues, we install s3fs here.</center></h3>"
   ]
  },
  {
   "cell_type": "code",
   "execution_count": 37,
   "id": "4a83980e-5cc5-409b-820b-14844bfeca0e",
   "metadata": {
    "tags": []
   },
   "outputs": [
    {
     "name": "stdout",
     "output_type": "stream",
     "text": [
      "Requirement already satisfied: s3fs in /home/ec2-user/anaconda3/envs/python3/lib/python3.10/site-packages (0.4.2)\n",
      "Requirement already satisfied: botocore>=1.12.91 in /home/ec2-user/anaconda3/envs/python3/lib/python3.10/site-packages (from s3fs) (1.34.22)\n",
      "Requirement already satisfied: fsspec>=0.6.0 in /home/ec2-user/anaconda3/envs/python3/lib/python3.10/site-packages (from s3fs) (2023.10.0)\n",
      "Requirement already satisfied: jmespath<2.0.0,>=0.7.1 in /home/ec2-user/anaconda3/envs/python3/lib/python3.10/site-packages (from botocore>=1.12.91->s3fs) (1.0.1)\n",
      "Requirement already satisfied: python-dateutil<3.0.0,>=2.1 in /home/ec2-user/anaconda3/envs/python3/lib/python3.10/site-packages (from botocore>=1.12.91->s3fs) (2.8.2)\n",
      "Requirement already satisfied: urllib3<2.1,>=1.25.4 in /home/ec2-user/anaconda3/envs/python3/lib/python3.10/site-packages (from botocore>=1.12.91->s3fs) (1.26.18)\n",
      "Requirement already satisfied: six>=1.5 in /home/ec2-user/anaconda3/envs/python3/lib/python3.10/site-packages (from python-dateutil<3.0.0,>=2.1->botocore>=1.12.91->s3fs) (1.16.0)\n"
     ]
    }
   ],
   "source": [
    "!pip install s3fs"
   ]
  },
  {
   "cell_type": "markdown",
   "id": "268ca352-e4b7-4735-a78b-f408b85c2ba2",
   "metadata": {
    "tags": []
   },
   "source": [
    "<h3><center>Import and explore the data.</center></h3>\n",
    " - for instance we can take a look at the data outline, i.e. schema"
   ]
  },
  {
   "cell_type": "code",
   "execution_count": 38,
   "id": "54964b7c-30d8-4b6f-a87f-b830f6f418f3",
   "metadata": {
    "tags": []
   },
   "outputs": [
    {
     "name": "stdout",
     "output_type": "stream",
     "text": [
      "Data shape: \n",
      "  (5043, 15)\n",
      "Data preview: \n",
      "     index      director_name  duration      actor_2_name  \\\n",
      "0      0      James Cameron     178.0  Joel David Moore   \n",
      "1      1     Gore Verbinski     169.0     Orlando Bloom   \n",
      "2      2         Sam Mendes     148.0      Rory Kinnear   \n",
      "3      3  Christopher Nolan     164.0    Christian Bale   \n",
      "4      4        Doug Walker       NaN        Rob Walker   \n",
      "\n",
      "                            genres     actor_1_name  \\\n",
      "0  Action|Adventure|Fantasy|Sci-Fi      CCH Pounder   \n",
      "1         Action|Adventure|Fantasy      Johnny Depp   \n",
      "2        Action|Adventure|Thriller  Christoph Waltz   \n",
      "3                  Action|Thriller        Tom Hardy   \n",
      "4                      Documentary      Doug Walker   \n",
      "\n",
      "                                         movie_title  num_voted_users  \\\n",
      "0                                            Avatar            886204   \n",
      "1          Pirates of the Caribbean: At World's End            471220   \n",
      "2                                           Spectre            275868   \n",
      "3                             The Dark Knight Rises           1144337   \n",
      "4  Star Wars: Episode VII - The Force Awakens    ...                8   \n",
      "\n",
      "           actor_3_name                                    movie_imdb_link  \\\n",
      "0             Wes Studi  http://www.imdb.com/title/tt0499549/?ref_=fn_t...   \n",
      "1        Jack Davenport  http://www.imdb.com/title/tt0449088/?ref_=fn_t...   \n",
      "2      Stephanie Sigman  http://www.imdb.com/title/tt2379713/?ref_=fn_t...   \n",
      "3  Joseph Gordon-Levitt  http://www.imdb.com/title/tt1345836/?ref_=fn_t...   \n",
      "4                   NaN  http://www.imdb.com/title/tt5289954/?ref_=fn_t...   \n",
      "\n",
      "   num_user_for_reviews language country  title_year  imdb_score  \n",
      "0                3054.0  English     USA      2009.0         7.9  \n",
      "1                1238.0  English     USA      2007.0         7.1  \n",
      "2                 994.0  English      UK      2015.0         6.8  \n",
      "3                2701.0  English     USA      2012.0         8.5  \n",
      "4                   NaN      NaN     NaN         NaN         7.1  \n",
      "Column names: \n",
      "  Index(['index', 'director_name', 'duration', 'actor_2_name', 'genres',\n",
      "       'actor_1_name', 'movie_title', 'num_voted_users', 'actor_3_name',\n",
      "       'movie_imdb_link', 'num_user_for_reviews', 'language', 'country',\n",
      "       'title_year', 'imdb_score'],\n",
      "      dtype='object')\n",
      "<class 'pandas.core.frame.DataFrame'>\n",
      "RangeIndex: 5043 entries, 0 to 5042\n",
      "Data columns (total 15 columns):\n",
      " #   Column                Non-Null Count  Dtype  \n",
      "---  ------                --------------  -----  \n",
      " 0   index                 5043 non-null   int64  \n",
      " 1   director_name         4939 non-null   object \n",
      " 2   duration              5028 non-null   float64\n",
      " 3   actor_2_name          5030 non-null   object \n",
      " 4   genres                5043 non-null   object \n",
      " 5   actor_1_name          5036 non-null   object \n",
      " 6   movie_title           5043 non-null   object \n",
      " 7   num_voted_users       5043 non-null   int64  \n",
      " 8   actor_3_name          5020 non-null   object \n",
      " 9   movie_imdb_link       5043 non-null   object \n",
      " 10  num_user_for_reviews  5022 non-null   float64\n",
      " 11  language              5029 non-null   object \n",
      " 12  country               5038 non-null   object \n",
      " 13  title_year            4935 non-null   float64\n",
      " 14  imdb_score            5043 non-null   float64\n",
      "dtypes: float64(4), int64(2), object(9)\n",
      "memory usage: 591.1+ KB\n",
      "Schema/info: \n",
      "  None\n"
     ]
    }
   ],
   "source": [
    "import s3fs\n",
    "\n",
    "my_s3_bucket = 's3://mulugetadiproject/movie_data.csv'\n",
    "movies_df = pd.read_csv(my_s3_bucket)\n",
    "print('Data shape: \\n ', movies_df.shape)\n",
    "print('Data preview: \\n ', movies_df.head(5))\n",
    "print('Column names: \\n ', movies_df.columns)\n",
    "print('Schema/info: \\n ', movies_df.info())"
   ]
  },
  {
   "cell_type": "markdown",
   "id": "ad98af4f-9dde-493e-8fec-f9990e229b4a",
   "metadata": {
    "tags": []
   },
   "source": [
    "<h3><center>Remove columns we do not need for prediction: 'index', 'movie_imdb_link','title_year'.</center></h3>"
   ]
  },
  {
   "cell_type": "code",
   "execution_count": 39,
   "id": "79be757b-85f3-4051-b128-2d9a115c876c",
   "metadata": {
    "tags": []
   },
   "outputs": [
    {
     "name": "stdout",
     "output_type": "stream",
     "text": [
      "Numerical Columns:  Index(['duration', 'num_voted_users', 'num_user_for_reviews', 'imdb_score'], dtype='object')\n",
      "Categorical Columns:  ['actor_2_name', 'actor_1_name', 'director_name', 'actor_3_name', 'language', 'country', 'movie_title', 'genres']\n",
      "Data shape after removing categorical columns: \n",
      "  (5043, 4)\n"
     ]
    }
   ],
   "source": [
    "movies_df = movies_df[['director_name', 'duration', 'actor_2_name', 'genres',\n",
    "       'actor_1_name', 'movie_title', 'num_voted_users', 'actor_3_name',\n",
    "       'num_user_for_reviews', 'language', 'country','imdb_score']]\n",
    "\n",
    "#  to save time, we will use only numerical columns here\n",
    "cols = movies_df.columns\n",
    "num_cols = movies_df._get_numeric_data().columns\n",
    "cat_cols = list(set(cols) - set(num_cols))\n",
    "print('Numerical Columns: ', num_cols)\n",
    "print('Categorical Columns: ', cat_cols)\n",
    "movies_df = movies_df[num_cols]\n",
    "\n",
    "# check again the size of the data\n",
    "print('Data shape after removing categorical columns: \\n ', movies_df.shape)"
   ]
  },
  {
   "cell_type": "markdown",
   "id": "af16c084-9578-4920-9933-085bd7c726be",
   "metadata": {
    "tags": []
   },
   "source": [
    "<h3><center>Light clean up: remove nulls, duplicate values if there are any and:</center></h3>\n",
    "- explore the data and get column-wise basic statistics\n",
    "- use average rating and display a table for the top 5 movies"
   ]
  },
  {
   "cell_type": "code",
   "execution_count": 40,
   "id": "1b0ae0bc-c44d-4e1c-9d2d-bf1c43c5f6bf",
   "metadata": {
    "tags": []
   },
   "outputs": [
    {
     "data": {
      "text/html": [
       "<div>\n",
       "<style scoped>\n",
       "    .dataframe tbody tr th:only-of-type {\n",
       "        vertical-align: middle;\n",
       "    }\n",
       "\n",
       "    .dataframe tbody tr th {\n",
       "        vertical-align: top;\n",
       "    }\n",
       "\n",
       "    .dataframe thead th {\n",
       "        text-align: right;\n",
       "    }\n",
       "</style>\n",
       "<table border=\"1\" class=\"dataframe\">\n",
       "  <thead>\n",
       "    <tr style=\"text-align: right;\">\n",
       "      <th></th>\n",
       "      <th>duration</th>\n",
       "      <th>num_voted_users</th>\n",
       "      <th>num_user_for_reviews</th>\n",
       "      <th>imdb_score</th>\n",
       "    </tr>\n",
       "  </thead>\n",
       "  <tbody>\n",
       "    <tr>\n",
       "      <th>1937</th>\n",
       "      <td>142.0</td>\n",
       "      <td>1689764</td>\n",
       "      <td>4144.0</td>\n",
       "      <td>9.3</td>\n",
       "    </tr>\n",
       "    <tr>\n",
       "      <th>3466</th>\n",
       "      <td>175.0</td>\n",
       "      <td>1155770</td>\n",
       "      <td>2238.0</td>\n",
       "      <td>9.2</td>\n",
       "    </tr>\n",
       "    <tr>\n",
       "      <th>2824</th>\n",
       "      <td>55.0</td>\n",
       "      <td>12590</td>\n",
       "      <td>37.0</td>\n",
       "      <td>9.1</td>\n",
       "    </tr>\n",
       "    <tr>\n",
       "      <th>3207</th>\n",
       "      <td>55.0</td>\n",
       "      <td>12591</td>\n",
       "      <td>37.0</td>\n",
       "      <td>9.1</td>\n",
       "    </tr>\n",
       "    <tr>\n",
       "      <th>4409</th>\n",
       "      <td>90.0</td>\n",
       "      <td>246</td>\n",
       "      <td>1.0</td>\n",
       "      <td>9.1</td>\n",
       "    </tr>\n",
       "  </tbody>\n",
       "</table>\n",
       "</div>"
      ],
      "text/plain": [
       "      duration  num_voted_users  num_user_for_reviews  imdb_score\n",
       "1937     142.0          1689764                4144.0         9.3\n",
       "3466     175.0          1155770                2238.0         9.2\n",
       "2824      55.0            12590                  37.0         9.1\n",
       "3207      55.0            12591                  37.0         9.1\n",
       "4409      90.0              246                   1.0         9.1"
      ]
     },
     "execution_count": 40,
     "metadata": {},
     "output_type": "execute_result"
    },
    {
     "data": {
      "image/png": "[encoded data removed]",
      "text/plain": [
       "<Figure size 640x480 with 1 Axes>"
      ]
     },
     "metadata": {},
     "output_type": "display_data"
    }
   ],
   "source": [
    "movies_df.dropna(axis=0,inplace=True)\n",
    "movies_df.drop_duplicates(inplace=True)\n",
    "movies_df.shape\n",
    "\n",
    "ax = movies_df.plot.hist(bins=12, alpha=0.5)\n",
    "ax.set_title('Distribution plots for numerical columns in the dataset')\n",
    "\n",
    "movies_df[movies_df.columns].sort_values(by='imdb_score', ascending=False).head(5)"
   ]
  },
  {
   "cell_type": "code",
   "execution_count": null,
   "id": "8cf8f4cd-9689-407a-8c71-d2c79a59e898",
   "metadata": {},
   "outputs": [],
   "source": []
  },
  {
   "cell_type": "code",
   "execution_count": 41,
   "id": "52d7c592-5ba8-4f31-9d94-cb1d22e02e26",
   "metadata": {
    "tags": []
   },
   "outputs": [
    {
     "data": {
      "image/png": "[encoded data removed]",
      "text/plain": [
       "<Figure size 640x480 with 2 Axes>"
      ]
     },
     "metadata": {},
     "output_type": "display_data"
    }
   ],
   "source": [
    "import seaborn as sb\n",
    "\n",
    "# mask\n",
    "mask = np.triu(np.ones_like(movies_df.corr()))\n",
    "# triangle correlation heatmap\n",
    "dataplot = sb.heatmap(movies_df.corr(), cmap=\"YlGnBu\", annot=True, mask=mask)\n",
    "# display  heatmap\n",
    "plt.show()"
   ]
  },
  {
   "cell_type": "markdown",
   "id": "450a4ad6-0935-496e-b470-c7514dc444a0",
   "metadata": {
    "tags": []
   },
   "source": [
    "<h3><center>Split the data for training and testing</center></h3>"
   ]
  },
  {
   "cell_type": "code",
   "execution_count": 42,
   "id": "658944ff-2dd4-4dcf-98d0-3515518a76ee",
   "metadata": {
    "tags": []
   },
   "outputs": [],
   "source": [
    "X = movies_df.loc[:, movies_df.columns != 'imdb_score']\n",
    "y = movies_df.imdb_score\n",
    "\n",
    "X_train, X_test, y_train, y_test= train_test_split(X, y,\n",
    "                                    test_size=0.3, random_state=100)"
   ]
  },
  {
   "cell_type": "markdown",
   "id": "1076cecd-a14c-4c87-b78b-6b7c00b2f7a1",
   "metadata": {
    "tags": []
   },
   "source": [
    "<h3><center>Create a random forest regression model and:</center></h3>\n",
    "- fit\n",
    "- predict and evaluate for accuracy"
   ]
  },
  {
   "cell_type": "code",
   "execution_count": 43,
   "id": "20958470-acee-474a-9a13-405595f6b197",
   "metadata": {
    "tags": []
   },
   "outputs": [
    {
     "name": "stdout",
     "output_type": "stream",
     "text": [
      "Accuracy: 89.27\n"
     ]
    }
   ],
   "source": [
    "model = RandomForestRegressor()\n",
    "\n",
    "# fit the model\n",
    "model.fit(X, y)\n",
    "\n",
    "# predict\n",
    "y_pred = model.predict(X_test)\n",
    "\n",
    "# evaluate the model, using predictions\n",
    "accuracy = model.score(X_test, y_test)\n",
    "\n",
    "print('Accuracy: %.2f' % (accuracy*100))"
   ]
  },
  {
   "cell_type": "markdown",
   "id": "cd7729de-025a-4a62-8dc9-4e2f5c4730a2",
   "metadata": {
    "tags": []
   },
   "source": [
    "<h3><center> Explore the data and show llustrate features that impact the average rating of a movie</center></h3>\n",
    "- also, extract the features that impact the average rating of a movie"
   ]
  },
  {
   "cell_type": "code",
   "execution_count": 44,
   "id": "547a9bb5-8242-4640-80e2-d2e52f43f767",
   "metadata": {
    "tags": []
   },
   "outputs": [
    {
     "name": "stdout",
     "output_type": "stream",
     "text": [
      "Feature: 0, Score: 0.25646\n",
      "Feature: 1, Score: 0.48764\n",
      "Feature: 2, Score: 0.25590\n"
     ]
    }
   ],
   "source": [
    "importance = model.feature_importances_\n",
    "\n",
    "# summarize feature importance\n",
    "for i,v in enumerate(importance):\n",
    "    print('Feature: %0d, Score: %.5f' % (i,v))\n",
    "    \n",
    "std = np.std([model.feature_importances_ for model in model.estimators_],\n",
    "             axis=0)\n",
    "indices = np.argsort(importance)"
   ]
  },
  {
   "cell_type": "markdown",
   "id": "2e8fba5c-6780-4204-a4b8-7e4c987f65fa",
   "metadata": {
    "tags": []
   },
   "source": [
    "<h3><center>Feature importance plot, bar length shows importance to predicting ratings</center></h3>"
   ]
  },
  {
   "cell_type": "code",
   "execution_count": 26,
   "id": "24605cec-4aa4-4cc7-86db-83770d8003da",
   "metadata": {
    "tags": []
   },
   "outputs": [
    {
     "data": {
      "image/png": "[encoded data removed]",
      "text/plain": [
       "<Figure size 800x200 with 1 Axes>"
      ]
     },
     "metadata": {},
     "output_type": "display_data"
    }
   ],
   "source": [
    "plt.figure(figsize=(8,2))\n",
    "plt.title(\"Feature importances with standard deviations\")\n",
    "plt.barh(range(X.shape[1]), importance[indices],\n",
    "       color=\"b\", xerr=std[indices], align=\"center\")\n",
    "plt.ylim([-1, X.shape[1]])\n",
    "plt.yticks(range(len(model.feature_importances_)), X.columns)\n",
    "plt.show()"
   ]
  },
  {
   "cell_type": "markdown",
   "id": "0119dea9-e9a7-4d9b-91e4-5892e019d339",
   "metadata": {
    "tags": []
   },
   "source": [
    "<h3><center>Other measures, RMSE and adjusted R-square</center></h3>"
   ]
  },
  {
   "cell_type": "code",
   "execution_count": 28,
   "id": "25584816-60c9-4b29-8413-73318e406359",
   "metadata": {
    "tags": []
   },
   "outputs": [
    {
     "name": "stdout",
     "output_type": "stream",
     "text": [
      "0.37835126401160696 0.8918742709120976 0.8916558350957584\n"
     ]
    }
   ],
   "source": [
    "RMSE = np.sqrt(mean_squared_error(y_test, y_pred))\n",
    "r2 = r2_score(y_test, y_pred)\n",
    "n = y_pred.shape[0]\n",
    "k = X_train.shape[1]\n",
    "adj_r_sq = 1 - (1 - r2)*(n-1)/(n-1-k)\n",
    "\n",
    "print(RMSE, r2, adj_r_sq)"
   ]
  },
  {
   "cell_type": "markdown",
   "id": "5ec87eb4-3970-4123-a777-a7ffa21a5521",
   "metadata": {},
   "source": [
    "<div class=\"alert alert-block alert-info\">\n",
    "<h3><center>10 things to do to improve the model:</center></h3> \n",
    "\n",
    "1. use larger dataset\n",
    "2. clean the data such as by removing one of two colinear columns\n",
    "3. remove non-varying columns, such as the language column if it is almost all 'English'\n",
    "4. remove outliers\n",
    "5. select only the top few important variables\n",
    "6. engineer new features by combining some\n",
    "7. tune the algorithm using its parameters such as cross validation\n",
    "8. compare models and use ensemble methods\n",
    "9. one-hot encode categorical data, if any\n",
    "10. scale features\n",
    "    \n",
    "</div>"
   ]
  },
  {
   "cell_type": "code",
   "execution_count": null,
   "id": "6fb4fb6f-b113-485f-b354-5bc26b399ff3",
   "metadata": {},
   "outputs": [],
   "source": []
  }
 ],
 "metadata": {
  "kernelspec": {
   "display_name": "Python 3 (ipykernel)",
   "language": "python",
   "name": "python3"
  },
  "language_info": {
   "codemirror_mode": {
    "name": "ipython",
    "version": 3
   },
   "file_extension": ".py",
   "mimetype": "text/x-python",
   "name": "python",
   "nbconvert_exporter": "python",
   "pygments_lexer": "ipython3",
   "version": "3.9.7"
  }
 },
 "nbformat": 4,
 "nbformat_minor": 5
}
